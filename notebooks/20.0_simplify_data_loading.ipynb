{
 "cells": [
  {
   "cell_type": "code",
   "execution_count": 1,
   "id": "catholic-person",
   "metadata": {},
   "outputs": [],
   "source": [
    "import torch\n",
    "import gcsfs\n",
    "import xarray as xr\n",
    "import pandas as pd\n",
    "import numpy as np\n",
    "import matplotlib.pyplot as plt"
   ]
  },
  {
   "cell_type": "code",
   "execution_count": 2,
   "id": "chinese-startup",
   "metadata": {},
   "outputs": [],
   "source": [
    "plt.rcParams['figure.figsize'] = (10, 10)\n",
    "plt.rcParams['image.interpolation'] = 'none'"
   ]
  },
  {
   "cell_type": "code",
   "execution_count": 3,
   "id": "structured-optics",
   "metadata": {},
   "outputs": [
    {
     "data": {
      "text/plain": [
       "True"
      ]
     },
     "execution_count": 3,
     "metadata": {},
     "output_type": "execute_result"
    }
   ],
   "source": [
    "torch.cuda.is_available()"
   ]
  },
  {
   "cell_type": "markdown",
   "id": "minor-guidance",
   "metadata": {},
   "source": [
    "# Load satellite data"
   ]
  },
  {
   "cell_type": "code",
   "execution_count": 7,
   "id": "allied-sunset",
   "metadata": {},
   "outputs": [],
   "source": [
    "#ZARR = 'solar-pv-nowcasting-data/satellite/EUMETSAT/SEVIRI_RSS/full_extent_TM_int16'\n",
    "ZARR = 'solar-pv-nowcasting-data/satellite/EUMETSAT/SEVIRI_RSS/OSGB36/all_zarr_int16'"
   ]
  },
  {
   "cell_type": "code",
   "execution_count": 98,
   "id": "marine-cursor",
   "metadata": {},
   "outputs": [],
   "source": [
    "def get_sat_data(filename=ZARR):\n",
    "    gcs = gcsfs.GCSFileSystem()\n",
    "    store = gcsfs.GCSMap(root=filename, gcs=gcs)\n",
    "    dataset = xr.open_zarr(store, consolidated=True)\n",
    "    # dataset['time'] = pd.to_datetime(dataset.time.values, unit='s')\n",
    "    return dataset['stacked_eumetsat_data'].sel(variable='HRV')"
   ]
  },
  {
   "cell_type": "code",
   "execution_count": 99,
   "id": "proper-strap",
   "metadata": {},
   "outputs": [],
   "source": [
    "sat_data = get_sat_data()"
   ]
  },
  {
   "cell_type": "code",
   "execution_count": 100,
   "id": "intermediate-certificate",
   "metadata": {},
   "outputs": [
    {
     "data": {
      "text/plain": [
       "163079"
      ]
     },
     "execution_count": 100,
     "metadata": {},
     "output_type": "execute_result"
    }
   ],
   "source": [
    "len(sat_data)"
   ]
  },
  {
   "cell_type": "markdown",
   "id": "eight-vocabulary",
   "metadata": {},
   "source": [
    "# Simple PyTorch Dataset"
   ]
  },
  {
   "cell_type": "code",
   "execution_count": 101,
   "id": "rough-funeral",
   "metadata": {},
   "outputs": [],
   "source": [
    "class SatelliteDataset(torch.utils.data.IterableDataset):\n",
    "    def __init__(self, length, history_len=24, forecast_len=12, transform=None):\n",
    "        self.history_len = history_len\n",
    "        self.forecast_len = forecast_len\n",
    "        self.total_seq_len = history_len + forecast_len\n",
    "        self.length = length - self.total_seq_len\n",
    "        self.transform = transform\n",
    "        self.n_samples_per_epoch_total = 1024\n",
    "        self.base_seed = 42  # random number generator seed\n",
    "        \n",
    "    def per_worker_init(self, worker_id=0, n_workers=1):\n",
    "        self.data_array = get_sat_data()\n",
    "        self.n_samples_per_epoch_per_worker = self.n_samples_per_epoch_total // n_workers\n",
    "        # Each worker must have a different initial random number generator seed.\n",
    "        seed = self.base_seed + worker_id\n",
    "        self.rng = np.random.default_rng(seed=seed)\n",
    "    \n",
    "    def __iter__(self):\n",
    "        for _ in range(self.n_samples_per_epoch_per_worker):\n",
    "            start_idx = self.rng.integers(low=0, high=self.length, dtype=np.uint32)\n",
    "            end_idx = start_idx + self.total_seq_len\n",
    "            sample = self.data_array.isel(time=slice(start_idx, end_idx))\n",
    "            if self.transform:\n",
    "                sample = self.transform(sample)\n",
    "            yield sample.values\n",
    "\n",
    "\n",
    "class CropSquare():\n",
    "    def __init__(self, size=128):\n",
    "        self.size = size\n",
    "        \n",
    "    def __call__(self, sample):\n",
    "        return sample[:, :self.size, :self.size]\n",
    "    \n",
    "    \n",
    "def worker_init_fn(worker_id):\n",
    "    \"\"\"Configures each dataset worker process.\"\"\"\n",
    "    worker_info = torch.utils.data.get_worker_info()\n",
    "    if worker_info is None:\n",
    "        print('worker_info is None!')\n",
    "    else:\n",
    "        dataset_obj = worker_info.dataset  # The Dataset copy in this worker process.\n",
    "        dataset_obj.per_worker_init(worker_id=worker_info.id, n_workers=worker_info.num_workers)\n",
    "\n",
    "\n",
    "dataset = SatelliteDataset(\n",
    "    length=len(sat_data),\n",
    "    transform=CropSquare(),\n",
    ")"
   ]
  },
  {
   "cell_type": "code",
   "execution_count": 102,
   "id": "extraordinary-moore",
   "metadata": {},
   "outputs": [],
   "source": [
    "dataloader = torch.utils.data.DataLoader(\n",
    "    dataset,\n",
    "    batch_size=8,\n",
    "    num_workers=10,  # 4=13.8s; 8=11.6; 10=11.3s; 11=11.5s; 12=12.6s\n",
    "    worker_init_fn=worker_init_fn,\n",
    "    pin_memory=False\n",
    ")"
   ]
  },
  {
   "cell_type": "code",
   "execution_count": 103,
   "id": "atomic-perspective",
   "metadata": {},
   "outputs": [
    {
     "name": "stdout",
     "output_type": "stream",
     "text": [
      "0 torch.Size([8, 36, 128, 128])\n",
      "1 torch.Size([8, 36, 128, 128])\n",
      "2 torch.Size([8, 36, 128, 128])\n",
      "3 torch.Size([8, 36, 128, 128])\n",
      "4 torch.Size([8, 36, 128, 128])\n",
      "5 torch.Size([8, 36, 128, 128])\n",
      "6 torch.Size([8, 36, 128, 128])\n",
      "7 torch.Size([8, 36, 128, 128])\n",
      "8 torch.Size([8, 36, 128, 128])\n",
      "9 torch.Size([8, 36, 128, 128])\n",
      "10 torch.Size([8, 36, 128, 128])\n",
      "11 torch.Size([8, 36, 128, 128])\n",
      "12 torch.Size([8, 36, 128, 128])\n",
      "13 torch.Size([8, 36, 128, 128])\n",
      "14 torch.Size([8, 36, 128, 128])\n",
      "15 torch.Size([8, 36, 128, 128])\n",
      "16 torch.Size([8, 36, 128, 128])\n",
      "17 torch.Size([8, 36, 128, 128])\n",
      "18 torch.Size([8, 36, 128, 128])\n",
      "19 torch.Size([8, 36, 128, 128])\n",
      "20 torch.Size([8, 36, 128, 128])\n",
      "21 torch.Size([8, 36, 128, 128])\n",
      "22 torch.Size([8, 36, 128, 128])\n",
      "23 torch.Size([8, 36, 128, 128])\n",
      "24 torch.Size([8, 36, 128, 128])\n",
      "25 torch.Size([8, 36, 128, 128])\n",
      "26 torch.Size([8, 36, 128, 128])\n",
      "27 torch.Size([8, 36, 128, 128])\n",
      "28 torch.Size([8, 36, 128, 128])\n",
      "29 torch.Size([8, 36, 128, 128])\n",
      "30 torch.Size([8, 36, 128, 128])\n",
      "31 torch.Size([8, 36, 128, 128])\n",
      "32 torch.Size([8, 36, 128, 128])\n",
      "33 torch.Size([8, 36, 128, 128])\n",
      "34 torch.Size([8, 36, 128, 128])\n",
      "35 torch.Size([8, 36, 128, 128])\n",
      "36 torch.Size([8, 36, 128, 128])\n",
      "37 torch.Size([8, 36, 128, 128])\n",
      "38 torch.Size([8, 36, 128, 128])\n",
      "39 torch.Size([8, 36, 128, 128])\n",
      "40 torch.Size([8, 36, 128, 128])\n",
      "41 torch.Size([8, 36, 128, 128])\n",
      "42 torch.Size([8, 36, 128, 128])\n",
      "43 torch.Size([8, 36, 128, 128])\n",
      "44 torch.Size([8, 36, 128, 128])\n",
      "45 torch.Size([8, 36, 128, 128])\n",
      "46 torch.Size([8, 36, 128, 128])\n",
      "47 torch.Size([8, 36, 128, 128])\n",
      "48 torch.Size([8, 36, 128, 128])\n",
      "49 torch.Size([8, 36, 128, 128])\n",
      "50 torch.Size([8, 36, 128, 128])\n",
      "51 torch.Size([8, 36, 128, 128])\n",
      "52 torch.Size([8, 36, 128, 128])\n",
      "53 torch.Size([8, 36, 128, 128])\n",
      "54 torch.Size([8, 36, 128, 128])\n",
      "55 torch.Size([8, 36, 128, 128])\n",
      "56 torch.Size([8, 36, 128, 128])\n",
      "57 torch.Size([8, 36, 128, 128])\n",
      "58 torch.Size([8, 36, 128, 128])\n",
      "59 torch.Size([8, 36, 128, 128])\n",
      "60 torch.Size([8, 36, 128, 128])\n",
      "61 torch.Size([8, 36, 128, 128])\n",
      "62 torch.Size([8, 36, 128, 128])\n",
      "63 torch.Size([8, 36, 128, 128])\n",
      "64 torch.Size([8, 36, 128, 128])\n",
      "65 torch.Size([8, 36, 128, 128])\n",
      "66 torch.Size([8, 36, 128, 128])\n",
      "67 torch.Size([8, 36, 128, 128])\n",
      "68 torch.Size([8, 36, 128, 128])\n",
      "69 torch.Size([8, 36, 128, 128])\n",
      "70 torch.Size([8, 36, 128, 128])\n",
      "71 torch.Size([8, 36, 128, 128])\n",
      "72 torch.Size([8, 36, 128, 128])\n",
      "73 torch.Size([8, 36, 128, 128])\n",
      "74 torch.Size([8, 36, 128, 128])\n",
      "75 torch.Size([8, 36, 128, 128])\n",
      "76 torch.Size([8, 36, 128, 128])\n",
      "77 torch.Size([8, 36, 128, 128])\n",
      "78 torch.Size([8, 36, 128, 128])\n",
      "79 torch.Size([8, 36, 128, 128])\n",
      "80 torch.Size([8, 36, 128, 128])\n",
      "81 torch.Size([8, 36, 128, 128])\n",
      "82 torch.Size([8, 36, 128, 128])\n",
      "83 torch.Size([8, 36, 128, 128])\n",
      "84 torch.Size([8, 36, 128, 128])\n",
      "85 torch.Size([8, 36, 128, 128])\n",
      "86 torch.Size([8, 36, 128, 128])\n",
      "87 torch.Size([8, 36, 128, 128])\n",
      "88 torch.Size([8, 36, 128, 128])\n",
      "89 torch.Size([8, 36, 128, 128])\n",
      "90 torch.Size([8, 36, 128, 128])\n",
      "91 torch.Size([8, 36, 128, 128])\n",
      "92 torch.Size([8, 36, 128, 128])\n",
      "93 torch.Size([8, 36, 128, 128])\n",
      "94 torch.Size([8, 36, 128, 128])\n",
      "95 torch.Size([8, 36, 128, 128])\n",
      "96 torch.Size([8, 36, 128, 128])\n",
      "97 torch.Size([8, 36, 128, 128])\n",
      "98 torch.Size([8, 36, 128, 128])\n",
      "99 torch.Size([8, 36, 128, 128])\n",
      "100 torch.Size([8, 36, 128, 128])\n",
      "101 torch.Size([8, 36, 128, 128])\n",
      "102 torch.Size([8, 36, 128, 128])\n",
      "103 torch.Size([8, 36, 128, 128])\n",
      "104 torch.Size([8, 36, 128, 128])\n",
      "105 torch.Size([8, 36, 128, 128])\n",
      "106 torch.Size([8, 36, 128, 128])\n",
      "107 torch.Size([8, 36, 128, 128])\n",
      "108 torch.Size([8, 36, 128, 128])\n",
      "109 torch.Size([8, 36, 128, 128])\n",
      "110 torch.Size([8, 36, 128, 128])\n",
      "111 torch.Size([8, 36, 128, 128])\n",
      "112 torch.Size([8, 36, 128, 128])\n",
      "113 torch.Size([8, 36, 128, 128])\n",
      "114 torch.Size([8, 36, 128, 128])\n",
      "115 torch.Size([8, 36, 128, 128])\n",
      "116 torch.Size([8, 36, 128, 128])\n",
      "117 torch.Size([8, 36, 128, 128])\n",
      "118 torch.Size([8, 36, 128, 128])\n",
      "119 torch.Size([8, 36, 128, 128])\n",
      "120 torch.Size([6, 36, 128, 128])\n",
      "121 torch.Size([6, 36, 128, 128])\n",
      "122 torch.Size([6, 36, 128, 128])\n",
      "123 torch.Size([6, 36, 128, 128])\n",
      "124 torch.Size([6, 36, 128, 128])\n",
      "125 torch.Size([6, 36, 128, 128])\n",
      "126 torch.Size([6, 36, 128, 128])\n",
      "127 torch.Size([6, 36, 128, 128])\n",
      "128 torch.Size([6, 36, 128, 128])\n",
      "129 torch.Size([6, 36, 128, 128])\n",
      "CPU times: user 225 ms, sys: 557 ms, total: 782 ms\n",
      "Wall time: 32.3 s\n"
     ]
    }
   ],
   "source": [
    "%%time\n",
    "for i, batch in enumerate(dataloader):\n",
    "    print(i, batch.shape)\n",
    "    #if i > 24:\n",
    "    #    break"
   ]
  },
  {
   "cell_type": "code",
   "execution_count": 82,
   "id": "pregnant-product",
   "metadata": {},
   "outputs": [
    {
     "data": {
      "text/plain": [
       "True"
      ]
     },
     "execution_count": 82,
     "metadata": {},
     "output_type": "execute_result"
    }
   ],
   "source": [
    "batch.is_pinned()"
   ]
  },
  {
   "cell_type": "code",
   "execution_count": null,
   "id": "artificial-speed",
   "metadata": {},
   "outputs": [],
   "source": []
  }
 ],
 "metadata": {
  "kernelspec": {
   "display_name": "predict_pv_yield",
   "language": "python",
   "name": "predict_pv_yield"
  },
  "language_info": {
   "codemirror_mode": {
    "name": "ipython",
    "version": 3
   },
   "file_extension": ".py",
   "mimetype": "text/x-python",
   "name": "python",
   "nbconvert_exporter": "python",
   "pygments_lexer": "ipython3",
   "version": "3.8.8"
  }
 },
 "nbformat": 4,
 "nbformat_minor": 5
}
