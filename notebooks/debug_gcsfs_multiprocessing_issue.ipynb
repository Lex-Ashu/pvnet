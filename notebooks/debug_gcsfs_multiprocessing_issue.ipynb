{
 "cells": [
  {
   "cell_type": "code",
   "execution_count": 1,
   "id": "adequate-virgin",
   "metadata": {},
   "outputs": [
    {
     "data": {
      "text/plain": [
       "'2021.04.0'"
      ]
     },
     "execution_count": 1,
     "metadata": {},
     "output_type": "execute_result"
    }
   ],
   "source": [
    "import multiprocessing\n",
    "from concurrent.futures import ProcessPoolExecutor\n",
    "import gcsfs\n",
    "gcsfs.__version__"
   ]
  },
  {
   "cell_type": "code",
   "execution_count": 2,
   "id": "02197441-5221-42e3-910f-b56f3b02992a",
   "metadata": {},
   "outputs": [],
   "source": [
    "multiprocessing.set_start_method('forkserver')"
   ]
  },
  {
   "cell_type": "code",
   "execution_count": 3,
   "id": "moderate-escape",
   "metadata": {},
   "outputs": [],
   "source": [
    "gcs = gcsfs.GCSFileSystem()  # Works fine!"
   ]
  },
  {
   "cell_type": "code",
   "execution_count": 4,
   "id": "05d76d01-e477-4cf5-9faa-d8d122fc7bf4",
   "metadata": {},
   "outputs": [],
   "source": [
    "def process_pool():\n",
    "    with ProcessPoolExecutor(max_workers=1) as executor:\n",
    "        for i in range(8):\n",
    "            future = executor.submit(gcsfs.GCSFileSystem)"
   ]
  },
  {
   "cell_type": "code",
   "execution_count": 5,
   "id": "041cdc7c-111a-4415-a097-d4eb8f0ca818",
   "metadata": {},
   "outputs": [],
   "source": [
    "process_pool()"
   ]
  },
  {
   "cell_type": "code",
   "execution_count": 6,
   "id": "449057a8-d16a-478d-b8a5-4c033ce92cef",
   "metadata": {},
   "outputs": [],
   "source": [
    "process_pool()"
   ]
  },
  {
   "cell_type": "code",
   "execution_count": null,
   "id": "723d464a-49f2-44ef-88c2-b785952f15ff",
   "metadata": {},
   "outputs": [],
   "source": []
  }
 ],
 "metadata": {
  "kernelspec": {
   "display_name": "test_gcsfs",
   "language": "python",
   "name": "test_gcsfs"
  },
  "language_info": {
   "codemirror_mode": {
    "name": "ipython",
    "version": 3
   },
   "file_extension": ".py",
   "mimetype": "text/x-python",
   "name": "python",
   "nbconvert_exporter": "python",
   "pygments_lexer": "ipython3",
   "version": "3.8.8"
  }
 },
 "nbformat": 4,
 "nbformat_minor": 5
}
