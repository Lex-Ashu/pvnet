{
 "cells": [
  {
   "cell_type": "markdown",
   "id": "ecf5eff1-679a-42f1-b153-46e93cdf58bf",
   "metadata": {},
   "source": [
    "Code experiments for my GCSFS bug report: https://github.com/dask/gcsfs/issues/379\n",
    "\n",
    "```shell\n",
    "conda create --name test_gcsfs python=3.8 gcsfs ipykernel\n",
    "```"
   ]
  },
  {
   "cell_type": "code",
   "execution_count": null,
   "id": "adequate-virgin",
   "metadata": {},
   "outputs": [],
   "source": [
    "import multiprocessing\n",
    "from concurrent.futures import ProcessPoolExecutor\n",
    "import gcsfs\n",
    "import time\n",
    "gcsfs.__version__"
   ]
  },
  {
   "cell_type": "code",
   "execution_count": null,
   "id": "02197441-5221-42e3-910f-b56f3b02992a",
   "metadata": {},
   "outputs": [],
   "source": [
    "multiprocessing.set_start_method('spawn')"
   ]
  },
  {
   "cell_type": "code",
   "execution_count": 3,
   "id": "moderate-escape",
   "metadata": {},
   "outputs": [],
   "source": [
    "gcs = gcsfs.GCSFileSystem()  # Works fine!"
   ]
  },
  {
   "cell_type": "code",
   "execution_count": 4,
   "id": "7e9685f6-8ad5-4c1c-ad0c-edcf391ef0e5",
   "metadata": {},
   "outputs": [],
   "source": [
    "fs_map = gcs.get_mapper('solar-pv-nowcasting-data/satellite/EUMETSAT/SEVIRI_RSS/OSGB36/all_zarr_int16')"
   ]
  },
  {
   "cell_type": "code",
   "execution_count": 5,
   "id": "5b7c3007-b02e-4374-95ac-c33b4bb20188",
   "metadata": {},
   "outputs": [
    {
     "data": {
      "text/plain": [
       "ItemsView(<fsspec.mapping.FSMap object at 0x7f1a600b73d0>)"
      ]
     },
     "execution_count": 5,
     "metadata": {},
     "output_type": "execute_result"
    }
   ],
   "source": [
    "fs_map.items()"
   ]
  },
  {
   "cell_type": "code",
   "execution_count": 6,
   "id": "05d76d01-e477-4cf5-9faa-d8d122fc7bf4",
   "metadata": {},
   "outputs": [],
   "source": [
    "def process_pool():\n",
    "    with ProcessPoolExecutor(max_workers=1) as executor:\n",
    "        for i in range(8):\n",
    "            future = executor.submit(gcsfs.GCSFileSystem)"
   ]
  },
  {
   "cell_type": "code",
   "execution_count": 7,
   "id": "041cdc7c-111a-4415-a097-d4eb8f0ca818",
   "metadata": {},
   "outputs": [],
   "source": [
    "process_pool()"
   ]
  },
  {
   "cell_type": "code",
   "execution_count": 8,
   "id": "449057a8-d16a-478d-b8a5-4c033ce92cef",
   "metadata": {},
   "outputs": [],
   "source": [
    "process_pool()"
   ]
  },
  {
   "cell_type": "code",
   "execution_count": 3,
   "id": "a58c4aa8-51be-4fff-ad67-a8652f4c8b71",
   "metadata": {},
   "outputs": [],
   "source": [
    "def worker_loop(results_queue):\n",
    "    print('worker')\n",
    "    \n",
    "    \n",
    "    #gcs = gcsfs.GCSFileSystem()\n",
    "    \n",
    "    while True:\n",
    "        results_queue.put(None)\n",
    "        time.sleep(1)"
   ]
  },
  {
   "cell_type": "code",
   "execution_count": 4,
   "id": "723d464a-49f2-44ef-88c2-b785952f15ff",
   "metadata": {},
   "outputs": [],
   "source": [
    "workers = []\n",
    "results_queue = multiprocessing.Queue()\n",
    "for _ in range(4):\n",
    "    worker = multiprocessing.Process(\n",
    "        target=worker_loop,\n",
    "        args=(results_queue,)\n",
    "    )\n",
    "    worker.daemon = True\n",
    "    worker.start()\n",
    "    workers.append(worker)"
   ]
  },
  {
   "cell_type": "code",
   "execution_count": 5,
   "id": "9789c6df-a20b-4a04-84a6-5588cd9e95ad",
   "metadata": {},
   "outputs": [
    {
     "data": {
      "text/plain": [
       "<Process name='Process-1' pid=68636 parent=68624 stopped exitcode=1 daemon>"
      ]
     },
     "execution_count": 5,
     "metadata": {},
     "output_type": "execute_result"
    }
   ],
   "source": [
    "workers[0]"
   ]
  },
  {
   "cell_type": "code",
   "execution_count": null,
   "id": "c6a4622d-0e03-4c82-87be-0f6a48ce769e",
   "metadata": {},
   "outputs": [],
   "source": [
    "results_queue.get()"
   ]
  },
  {
   "cell_type": "code",
   "execution_count": null,
   "id": "2c18440d-05bc-4113-b6f1-b16b45b26dc3",
   "metadata": {},
   "outputs": [],
   "source": []
  }
 ],
 "metadata": {
  "kernelspec": {
   "display_name": "test_gcsfs",
   "language": "python",
   "name": "test_gcsfs"
  },
  "language_info": {
   "codemirror_mode": {
    "name": "ipython",
    "version": 3
   },
   "file_extension": ".py",
   "mimetype": "text/x-python",
   "name": "python",
   "nbconvert_exporter": "python",
   "pygments_lexer": "ipython3",
   "version": "3.8.8"
  }
 },
 "nbformat": 4,
 "nbformat_minor": 5
}
