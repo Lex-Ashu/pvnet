{
 "cells": [
  {
   "cell_type": "markdown",
   "metadata": {},
   "source": [
    "Pre-allocate NUM_SUPER_BATCHES x 'super batch tensors' in GPU RAM.  Each super batch has a READY flag (which tells the PyTorch dataloader 'this super batch is ready to sample from')\n",
    "\n",
    "(Paralelise using dask.delayed):\n",
    "\n",
    "PyTorch Dataset then randomly samples squares to create a batch.\n"
   ]
  },
  {
   "cell_type": "code",
   "execution_count": 313,
   "metadata": {},
   "outputs": [],
   "source": [
    "import numpy as np\n",
    "from multiprocessing import managers, shared_memory\n",
    "import enum\n",
    "from concurrent import futures\n",
    "import xarray as xr\n",
    "import gcsfs\n",
    "from typing import Dict, List\n",
    "import torch\n",
    "from collections import namedtuple\n",
    "from dataclasses import dataclass\n",
    "from functools import partial\n",
    "import cv2 as cv\n",
    "import matplotlib.pyplot as plt"
   ]
  },
  {
   "cell_type": "code",
   "execution_count": 45,
   "metadata": {},
   "outputs": [],
   "source": [
    "# Override is_retriable.  Google Cloud sometimes throws\n",
    "# a HttpError code 400.  gcsfs considers this to not be retriable.\n",
    "# But it is retriable!\n",
    "\n",
    "def is_retriable(exception):\n",
    "    \"\"\"Returns True if this exception is retriable.\"\"\"\n",
    "    errs = list(range(500, 505)) + [\n",
    "        # Jack's addition.  Google Cloud occasionally throws Bad Requests for no apparent reason.\n",
    "        400,\n",
    "        # Request Timeout\n",
    "        408,\n",
    "        # Too Many Requests\n",
    "        429,\n",
    "    ]\n",
    "    errs += [str(e) for e in errs]\n",
    "    if isinstance(exception, gcsfs.utils.HttpError):\n",
    "        return exception.code in errs\n",
    "\n",
    "    return isinstance(exception, gcsfs.utils.RETRIABLE_EXCEPTIONS)\n",
    "\n",
    "gcsfs.utils.is_retriable = is_retriable"
   ]
  },
  {
   "cell_type": "code",
   "execution_count": 46,
   "metadata": {},
   "outputs": [],
   "source": [
    "ZARR = 'solar-pv-nowcasting-data/satellite/EUMETSAT/SEVIRI_RSS/OSGB36/all_zarr_int16'\n",
    "gcs = gcsfs.GCSFileSystem()\n",
    "gcs.retries = 60\n",
    "store = gcsfs.GCSMap(root=ZARR, gcs=gcs)"
   ]
  },
  {
   "cell_type": "code",
   "execution_count": 48,
   "metadata": {},
   "outputs": [
    {
     "name": "stdout",
     "output_type": "stream",
     "text": [
      "CPU times: user 5.29 s, sys: 402 ms, total: 5.69 s\n",
      "Wall time: 2min 31s\n"
     ]
    }
   ],
   "source": [
    "%%time\n",
    "dataset = xr.open_zarr(store, consolidated=True)"
   ]
  },
  {
   "cell_type": "code",
   "execution_count": 268,
   "metadata": {},
   "outputs": [],
   "source": [
    "OPT_FLOW_DTYPE = np.float32\n",
    "\n",
    "\n",
    "class BatchType(enum.Enum):\n",
    "    TRAINING = 0\n",
    "    TESTING = 1\n",
    "\n",
    "\n",
    "def convert_10bpp_to_uint8(array):\n",
    "    \"Convert 10 bit per pixel to uint8\"\n",
    "    # Divide by 4 to get from a range of [0, 1023] to [0, 255].\n",
    "    array = array / 4.0\n",
    "    array = array.round()\n",
    "    assert array.min() >= 0\n",
    "    assert array.max() <= 255\n",
    "    return array.astype(np.uint8)\n",
    "\n",
    "\n",
    "def _compute_optical_flow_worker_process(\n",
    "    timestep: int, \n",
    "    sat_data_shape: tuple, \n",
    "    sat_data_shared_mem: shared_memory.SharedMemory, \n",
    "    opt_flow_shared_mem: shared_memory.SharedMemory) -> None:\n",
    "    \"\"\"Separate process. Gets sat data from shared memory. Computes optical flow\n",
    "    for pair of images timestep and timestep+1.\n",
    "    \n",
    "    Args:\n",
    "        timestep: Index into sat_data for the first image on which to compute\n",
    "            optical flow.  The 2nd image is timestep+1.\n",
    "        sat_data_shape: Tuple of (num_timesteps, height, width)\n",
    "        sat_data_shared_mem: SharedMemory object.  Note that the full array isn't copied into\n",
    "            each process.  Instead, memory is shared between processes.\n",
    "        opt_flow_shared_mem: SharedMemory into which this function inserts the computed optical flow field.\n",
    "    \"\"\"\n",
    "    # Attach to existing memory block for satellite data.\n",
    "    sat_data_shared_array = np.ndarray(sat_data_shape, dtype=np.uint8, buffer=sat_data_shared_mem.buf)\n",
    "    \n",
    "    # Attach to existing memory block for the optical flow fields.\n",
    "    num_timesteps, height, width = sat_data_shape\n",
    "    opt_flow_shape = (num_timesteps-1, height, width, 2)\n",
    "    opt_flow_shared_array = np.ndarray(opt_flow_shape, dtype=OPT_FLOW_DTYPE, buffer=opt_flow_shared_mem.buf)\n",
    "    \n",
    "    prev_img = sat_data_shared_array[timestep]\n",
    "    next_img = sat_data_shared_array[timestep+1]\n",
    "    \n",
    "    flow = cv.calcOpticalFlowFarneback(\n",
    "        prev=prev_img, next=next_img, flow=None, pyr_scale=0.5, levels=2, winsize=40, iterations=3, \n",
    "        poly_n=5, poly_sigma=0.7, flags=cv.OPTFLOW_FARNEBACK_GAUSSIAN)\n",
    "    \n",
    "    # Copy flow to shared memory.\n",
    "    opt_flow_shared_array[timestep] = flow[:]\n",
    "\n",
    "\n",
    "def compute_optical_flow(sat_data: xr.DataArray) -> xr.DataArray:\n",
    "    \"\"\"Compute optical flow for each pair of consecutive images using multiple processes.\n",
    "\n",
    "    Args:\n",
    "        sat_data: Satellite data loaded from disk.\n",
    "        \n",
    "    Returns:\n",
    "        optical flow fields as xr.DataArray, with the 'time' dimension set to the time\n",
    "        of the second of the pair of input satellite images.\n",
    "    \"\"\"\n",
    "    # OpenCV expects uint8 images\n",
    "    sat_data_uint8 = convert_10bpp_to_uint8(sat_data)\n",
    "    num_timesteps, height, width = sat_data_uint8.shape\n",
    "\n",
    "    # Create a non-shared array for the resulting optical flow fields.\n",
    "    num_flows = num_timesteps - 2\n",
    "    opt_flow_shape = (num_flows, height, width, 2)\n",
    "    opt_flow_array = np.empty(opt_flow_shape, dtype=OPT_FLOW_DTYPE)\n",
    "\n",
    "    # To speed up processing, we use multiple processes to compute the optical flow fields.\n",
    "    # Prior to Python 3.8, we'd have to pass the sat data array and the optical flow\n",
    "    # arrays using pipes or on-disk files.  That's slow.  Python 3.8 allows us to share\n",
    "    # memory between processes, which is much faster.\n",
    "    with managers.SharedMemoryManager() as smm:\n",
    "        # Create shared array for the uint8 satellite imagery.\n",
    "        sat_data_shared_mem = smm.SharedMemory(size=sat_data_uint8.nbytes)\n",
    "        sat_data_shared_array = np.ndarray(sat_data_uint8.shape, dtype=np.uint8, buffer=sat_data_shared_mem.buf)\n",
    "        sat_data_shared_array[:] = sat_data_uint8[:]\n",
    "\n",
    "        # Create a shared array for the resulting optical flow fields.\n",
    "        opt_flow_shared_mem = smm.SharedMemory(size=opt_flow_array.nbytes)\n",
    "        opt_flow_shared_array = np.ndarray(opt_flow_shape, dtype=OPT_FLOW_DTYPE, buffer=opt_flow_shared_mem.buf)\n",
    "\n",
    "        # Fire up a bunch of processes to compute optical flow indexed on the first\n",
    "        # image of the pair of images to compute optical flow for.  ProcessPoolExecutor\n",
    "        # defaults to use the number of processors on the machine.\n",
    "        \n",
    "        opt_flow_func = partial(\n",
    "            _compute_optical_flow_worker_process, \n",
    "            sat_data_shape=sat_data_uint8.shape,\n",
    "            sat_data_shared_mem=sat_data_shared_mem,\n",
    "            opt_flow_shared_mem=opt_flow_shared_mem)\n",
    "        with futures.ProcessPoolExecutor() as executor:\n",
    "            executor.map(opt_flow_func, range(num_flows))\n",
    "\n",
    "        # Copy results into non-shared array.\n",
    "        opt_flow_array[:] = opt_flow_shared_array[:]\n",
    "\n",
    "    # Wrap opt_flow_array in an xr.DataArray with appropriate dimensions.\n",
    "    coords = (\n",
    "        ('time', sat_data['time'][1:-1]),\n",
    "        ('y', sat_data['y']),\n",
    "        ('x', sat_data['x']),\n",
    "        ('optical_flow_displacement', ['x', 'y']))\n",
    "    \n",
    "    return xr.DataArray(opt_flow_array, coords=coords, name='optical flow')"
   ]
  },
  {
   "cell_type": "code",
   "execution_count": 309,
   "metadata": {},
   "outputs": [],
   "source": [
    "def remap_image(image: np.ndarray, flow: np.ndarray) -> np.ndarray:\n",
    "    \"\"\"Takes an image and warps it forwards in time according to the flow field.\n",
    "    \n",
    "    Args:\n",
    "        image: The grayscale image to warp.\n",
    "        flow: A 3D array.  The first two dimensions must be the same size as the first two\n",
    "            dimensions of the image.  The third dimension represented the x and y displacement.\n",
    "            \n",
    "    Returns:  Warped image.\n",
    "    \"\"\"\n",
    "    # Adapted from https://github.com/opencv/opencv/issues/11068\n",
    "    height, width = flow.shape[:2]\n",
    "    remap = -flow.copy()\n",
    "    remap[..., 0] += np.arange(width)  # map_x\n",
    "    remap[..., 1] += np.arange(height)[:, np.newaxis]  # map_y\n",
    "    return cv.remap(src=image, map1=remap, map2=None, interpolation=cv.INTER_LINEAR, borderMode=cv.BORDER_REPLICATE)\n",
    "\n",
    "\n",
    "def compute_optical_flow_predictions(sat_data: xr.DataArray, flows: xr.DataArray):\n",
    "    \"\"\"Compute predictions.\n",
    "\n",
    "    For each source image (S), and optical flow field (F), we create a predicted image (P) like this:\n",
    "\n",
    "    source image timestep: 012345\n",
    "                           SSSSSS\n",
    "                            FFFF\n",
    "                             PPPP\n",
    "                              PPP\n",
    "                               PP\n",
    "                                P\n",
    "\n",
    "    For n source images, we have n-2 flows, and (n-2)*(n-1)/2 predictions.  In the illustration,\n",
    "    we have 6 source images, 4 flows, and 10 predictions.\n",
    "\n",
    "    Source image 0 and 1 make the first flow.  Source image 0 and the first flow go into\n",
    "    making the first prediction (which is for source timestep 2.  That is, we take source image\n",
    "    1 and predict source image 2.)\n",
    "    \n",
    "    Returns metadata, predictions\n",
    "        metadata: a list of dicts. Each dict has keys 'date_forecast_about' (np.datetime64)\n",
    "          and 'forecast_horizon' (np.timedelta64).  There is one metadata entry for each prediction.\n",
    "        predictions: np.ndarray of shape (num_predictions, height, width)\n",
    "    \"\"\"\n",
    "\n",
    "    num_source_timesteps, height, width = sat_data.shape\n",
    "    num_predictions = int((num_source_timesteps-2) * (num_source_timesteps-1) / 2)\n",
    "    predictions_shape = (num_predictions, height, width)\n",
    "    predictions = np.empty(predictions_shape, dtype=np.float32)\n",
    "\n",
    "    num_flows = num_source_timesteps - 2\n",
    "    prediction_i = 0\n",
    "    prediction_metadata = []\n",
    "\n",
    "    for flow_i in range(num_flows):\n",
    "        print(f'FLOW {flow_i:02d}: ', end='')\n",
    "        for forecast_horizon in range(1, (num_flows - flow_i)+1):\n",
    "            print(f'{prediction_i:03d}, ', end='')\n",
    "            first_image = sat_data[flow_i+1]\n",
    "            predicted_image = remap_image(first_image.values, flows[flow_i].values * forecast_horizon)\n",
    "            predictions[prediction_i] = predicted_image[:]\n",
    "\n",
    "            forecast_horizon_td = np.timedelta64(forecast_horizon * MINUTES_PER_TIMESTEP, 'm')\n",
    "            prediction_metadata.append({\n",
    "                'date_forecast_about': first_image['time'].values + forecast_horizon_td,\n",
    "                'forecast_horizon': forecast_horizon_td})\n",
    "            prediction_i += 1\n",
    "        print()\n",
    "        \n",
    "    return prediction_metadata, predictions"
   ]
  },
  {
   "cell_type": "code",
   "execution_count": 273,
   "metadata": {},
   "outputs": [],
   "source": [
    "TIMESTEPS_PER_HOUR = 12  # One timestep every 5 minutes.\n",
    "MINUTES_PER_TIMESTEP = 5\n",
    "NUM_RETRIES = 5\n",
    "\n",
    "DateRange = namedtuple('DateRange', ['start', 'end'])\n",
    "\n",
    "@dataclass\n",
    "class SatelliteLoader:\n",
    "    \"\"\"Continually loads satellite data from disk into GPU memory.\n",
    "    \n",
    "    Optical flow & optical flow predictions are computed in parallel on the fly.\n",
    "    \n",
    "    When data is ready, a 'super batch' is loaded into GPU RAM.\n",
    "    A 'super batch' is a large number of examples in GPU RAM.\n",
    "    \n",
    "    When in 'steady state', there will be num_training_super_batches\n",
    "    in GPU RAM at once.  This class replaces super batches in a round-robbin\n",
    "    fashion as new data is loaded off disk.\n",
    "    \n",
    "    Calling the __iter__ method will construct a mini-batch by randomly\n",
    "    sampling from all the super batches in GPU RAM.  In this way, we can\n",
    "    keep the GPU continually training, while gradually replacing the\n",
    "    training data as data is loaded off disk.\n",
    "    \n",
    "    We don't explicity set a date range for training so the code can \n",
    "    automatically make use of new training data when the dataset is updated\n",
    "    with new satellite data.\n",
    "\n",
    "    Init params:\n",
    "        dataset: xarray dataset of int16 EUMETSAT satellite images.\n",
    "        num_epochs:\n",
    "        num_forecast_timesteps: Number of timesteps ahead to predict.  Each timestep is 5 minutes long.\n",
    "        num_examples_per_batch:\n",
    "        num_batches_per_super_batch:\n",
    "        num_training_super_batches:\n",
    "        image_crop_size: __iter__ will return images image_crop_size x image_crop_size.\n",
    "        testing_date_range: Date range to exclude from training data.  \n",
    "            If the testing_date_range contains more data\n",
    "            than can fit into a single super batch then the chronologically late\n",
    "            data will not be used in either training or testing.\n",
    "        rng: Random number generator.\n",
    "    \"\"\"\n",
    "    dataset: xr.Dataset  # The only variable that _has_ to be passed in.\n",
    "    num_epochs: int = 20\n",
    "    num_forecast_timesteps: int = 24\n",
    "    num_examples_per_batch: int = 64\n",
    "    num_batches_per_super_batch: int = 64\n",
    "    num_training_super_batches: int = 8\n",
    "    image_crop_size: int = 64\n",
    "\n",
    "    # TODO: Accept multiple date ranges.\n",
    "    testing_date_range: DateRange = DateRange(start=np.datetime64('2019-06-01'), end=np.datetime64('2019-06-14'))\n",
    "        \n",
    "    rng: np.random.Generator = np.random.default_rng()\n",
    "\n",
    "    def __post_init__(self):\n",
    "        # Select just the HRV channel.\n",
    "        data_array = self.dataset['stacked_eumetsat_data'][..., 0]\n",
    "\n",
    "        # Our int16 array represents NaNs as '-1'.  Lazily replace -1s with NaNs.\n",
    "        data_array = data_array.astype(np.float32).where(data_array != -1, np.NaN)\n",
    "        self.data_array = data_array\n",
    "\n",
    "        # valid_start_dates is a dict mapping TRAINING and TESTING to valid start dates.\n",
    "        self.valid_start_times = self._compute_valid_start_times(data_array['time'])\n",
    "        \n",
    "        # Prepare tensors and ready flags\n",
    "        self.training_super_batches = []  # TODO: list of num_training_super_batches pre-allocated GPU tensors, set to NaNs\n",
    "        self.training_super_batches_ready_flags: List[bool] = [False] * self.num_training_super_batches\n",
    "        self.testing_super_batch = []  # TODO: load_super_batch(BatchType.TESTING)\n",
    "        \n",
    "    def _compute_valid_start_times(self, datetimes) -> Dict[BatchType, np.array]:\n",
    "        \"\"\"Find start times for testing and training.\n",
    "        \n",
    "        Returns dict {TESTING: array of dates; TRAINING: array of dates}\"\"\"\n",
    "\n",
    "        # TODO: Use clear sky irradiance to compute good hours.\n",
    "        # TODO: Only select start-times which align with the start of Zarr chunks?\n",
    "\n",
    "        datetime_index = datetimes.to_index()\n",
    "        hours = datetime_index.hour\n",
    "        forecast_hours = self.num_forecast_timesteps / TIMESTEPS_PER_HOUR\n",
    "        end_hour = 16 - forecast_hours\n",
    "        mask = (hours > 9) & (hours < end_hour)\n",
    "        masked_datetimes = datetimes[mask]\n",
    "\n",
    "        testing_mask = (self.testing_date_range.start < masked_datetimes) &  (self.testing_date_range.end > masked_datetimes)\n",
    "        return {\n",
    "            BatchType.TRAINING: masked_datetimes[~testing_mask].values,\n",
    "            BatchType.TESTING: masked_datetimes[testing_mask].values}\n",
    "\n",
    "    def load_satellite_data(self, batch_type: BatchType=BatchType.TRAINING) -> xr.DataArray:\n",
    "        \"\"\"Randomly pick a chunk of data to load off disk.\n",
    "\n",
    "        Args:\n",
    "            batch_type: Select training or testing.\n",
    "        \"\"\"\n",
    "        # TODO: Load several complete chunks at once to make best use of Zarr's parallel reading.\n",
    "        # We'll need to modify compute_optical_flow so it doesn't attempt to compute\n",
    "        # optical flow for two images which are not exactly consecutive.\n",
    "        \n",
    "        # TODO: Figure out how many Zarr chunks to load so that the\n",
    "        # resulting data fits into a super batch.\n",
    "        # Consider: For the last forecast_timesteps steps in a consecutive chunk,\n",
    "        # we'll have decreasingly few ground-truth examples.\n",
    "\n",
    "        start_times = self.valid_start_times[batch_type]\n",
    "        \n",
    "        for retry in range(NUM_RETRIES):\n",
    "            start_time = self.rng.choice(start_times)\n",
    "            end_time = start_time + np.timedelta64(self.num_forecast_timesteps * MINUTES_PER_TIMESTEP, 'm')\n",
    "            sat_data = self.data_array.sel(time=slice(start_time, end_time))\n",
    "            if len(sat_data) == self.num_forecast_timesteps + 1:\n",
    "                print(f'Found good data after {retry} retries.')\n",
    "                break\n",
    "        else:\n",
    "            raise ValueError(f'Failed to find valid data after {NUM_RETRIES} retries!')\n",
    "            \n",
    "        return sat_data.compute()\n",
    "\n",
    "    def load_super_batch(self, batch_type: BatchType=BatchType.TRAINING) -> torch.HalfTensor:\n",
    "        \"\"\"Returns pinned array.\"\"\"\n",
    "        satellite_data = load_satellite_data(batch_type)\n",
    "        optical_flow = compute_optical_flow(satellite_data)\n",
    "        # TODO:  Rolling average of flow fields.\n",
    "\n",
    "        opt_flow_predictions = compute_optical_flow_predictions(satellite_data, optical_flow)\n",
    "\n",
    "        # TODO Load sat_data, opt_flow, and predictions into pinned CPU memory?  Or return?\n",
    "        return super_batch\n",
    "\n",
    "    def load_training_data(self):\n",
    "        \"\"\"Continually and asynchronously loads new super batches into GPU RAM.  \n",
    "        Signals to the DataSet when each batch is ready.\"\"\"\n",
    "\n",
    "        # TODO: For this to run asynchronously, it needs to run in a separate thread, right?\n",
    "        \n",
    "        for epoch_i in range(num_epochs):\n",
    "            for super_batch_i in range(self.num_super_batches):\n",
    "                cpu_super_batch = load_super_batch(BatchType.TRAINING)\n",
    "                \n",
    "                # Copy super_batch to GPU.\n",
    "                # TODO: Should probably block here if __iter__ is reading from\n",
    "                # the gpu super batch.\n",
    "                self.training_super_batches_ready_flags[super_batch_i] = False\n",
    "                self.training_super_batches[i].copy_(cpu_super_batch)\n",
    "                self.training_super_batches_ready_flags[super_batch_i] = True\n",
    "                \n",
    "    def __iter__(self):\n",
    "        \"\"\"Returns a randomly sampled example consisting of an image predicted using\n",
    "        optical flow, the datetime of the prediction, and a target ground-truth image.\n",
    "        Images are squares cropped from the entire geographical scope.\"\"\"\n",
    "        \n",
    "        # Randomly pick a prediction (and hence prediction metadata, which gives the datetime for the ground truth image).\n",
    "        # Return that.  But need to be careful about datetimes not exactly matching.  Maybe round to the nearest 5 mins?\n",
    "        \n",
    "        pass"
   ]
  },
  {
   "cell_type": "code",
   "execution_count": 274,
   "metadata": {},
   "outputs": [
    {
     "name": "stdout",
     "output_type": "stream",
     "text": [
      "CPU times: user 42 ms, sys: 0 ns, total: 42 ms\n",
      "Wall time: 40 ms\n"
     ]
    }
   ],
   "source": [
    "%%time\n",
    "loader = SatelliteLoader(dataset)"
   ]
  },
  {
   "cell_type": "code",
   "execution_count": 275,
   "metadata": {},
   "outputs": [
    {
     "data": {
      "text/plain": [
       "624"
      ]
     },
     "execution_count": 275,
     "metadata": {},
     "output_type": "execute_result"
    }
   ],
   "source": [
    "len(loader.valid_start_times[BatchType.TESTING])"
   ]
  },
  {
   "cell_type": "code",
   "execution_count": 276,
   "metadata": {},
   "outputs": [
    {
     "name": "stdout",
     "output_type": "stream",
     "text": [
      "Found good data after 0 retries.\n",
      "CPU times: user 467 ms, sys: 124 ms, total: 590 ms\n",
      "Wall time: 720 ms\n"
     ]
    }
   ],
   "source": [
    "%%time\n",
    "sat_data = loader.load_satellite_data()"
   ]
  },
  {
   "cell_type": "code",
   "execution_count": 277,
   "metadata": {},
   "outputs": [
    {
     "name": "stdout",
     "output_type": "stream",
     "text": [
      "CPU times: user 68.6 ms, sys: 228 ms, total: 297 ms\n",
      "Wall time: 346 ms\n"
     ]
    }
   ],
   "source": [
    "%%time\n",
    "flows = compute_optical_flow(sat_data)"
   ]
  },
  {
   "cell_type": "code",
   "execution_count": 310,
   "metadata": {},
   "outputs": [
    {
     "name": "stdout",
     "output_type": "stream",
     "text": [
      "FLOW 00: 000, 001, 002, 003, 004, 005, 006, 007, 008, 009, 010, 011, 012, 013, 014, 015, 016, 017, 018, 019, 020, 021, 022, \n",
      "FLOW 01: 023, 024, 025, 026, 027, 028, 029, 030, 031, 032, 033, 034, 035, 036, 037, 038, 039, 040, 041, 042, 043, 044, \n",
      "FLOW 02: 045, 046, 047, 048, 049, 050, 051, 052, 053, 054, 055, 056, 057, 058, 059, 060, 061, 062, 063, 064, 065, \n",
      "FLOW 03: 066, 067, 068, 069, 070, 071, 072, 073, 074, 075, 076, 077, 078, 079, 080, 081, 082, 083, 084, 085, \n",
      "FLOW 04: 086, 087, 088, 089, 090, 091, 092, 093, 094, 095, 096, 097, 098, 099, 100, 101, 102, 103, 104, \n",
      "FLOW 05: 105, 106, 107, 108, 109, 110, 111, 112, 113, 114, 115, 116, 117, 118, 119, 120, 121, 122, \n",
      "FLOW 06: 123, 124, 125, 126, 127, 128, 129, 130, 131, 132, 133, 134, 135, 136, 137, 138, 139, \n",
      "FLOW 07: 140, 141, 142, 143, 144, 145, 146, 147, 148, 149, 150, 151, 152, 153, 154, 155, \n",
      "FLOW 08: 156, 157, 158, 159, 160, 161, 162, 163, 164, 165, 166, 167, 168, 169, 170, \n",
      "FLOW 09: 171, 172, 173, 174, 175, 176, 177, 178, 179, 180, 181, 182, 183, 184, \n",
      "FLOW 10: 185, 186, 187, 188, 189, 190, 191, 192, 193, 194, 195, 196, 197, \n",
      "FLOW 11: 198, 199, 200, 201, 202, 203, 204, 205, 206, 207, 208, 209, \n",
      "FLOW 12: 210, 211, 212, 213, 214, 215, 216, 217, 218, 219, 220, \n",
      "FLOW 13: 221, 222, 223, 224, 225, 226, 227, 228, 229, 230, \n",
      "FLOW 14: 231, 232, 233, 234, 235, 236, 237, 238, 239, \n",
      "FLOW 15: 240, 241, 242, 243, 244, 245, 246, 247, \n",
      "FLOW 16: 248, 249, 250, 251, 252, 253, 254, \n",
      "FLOW 17: 255, 256, 257, 258, 259, 260, \n",
      "FLOW 18: 261, 262, 263, 264, 265, \n",
      "FLOW 19: 266, 267, 268, 269, \n",
      "FLOW 20: 270, 271, 272, \n",
      "FLOW 21: 273, 274, \n",
      "FLOW 22: 275, \n",
      "CPU times: user 6.12 s, sys: 201 ms, total: 6.32 s\n",
      "Wall time: 1.58 s\n"
     ]
    }
   ],
   "source": [
    "%%time\n",
    "prediction_metadata, predictions = compute_optical_flow_predictions(sat_data, flows)"
   ]
  },
  {
   "cell_type": "code",
   "execution_count": 314,
   "metadata": {},
   "outputs": [
    {
     "data": {
      "text/plain": [
       "<matplotlib.image.AxesImage at 0x7f99286f6b80>"
      ]
     },
     "execution_count": 314,
     "metadata": {},
     "output_type": "execute_result"
    },
    {
     "data": {
      "image/png": "[encoded data removed]",
      "text/plain": [
       "<Figure size 432x288 with 1 Axes>"
      ]
     },
     "metadata": {
      "needs_background": "light"
     },
     "output_type": "display_data"
    }
   ],
   "source": [
    "plt.imshow(predictions[0])"
   ]
  },
  {
   "cell_type": "code",
   "execution_count": 316,
   "metadata": {},
   "outputs": [
    {
     "data": {
      "text/plain": [
       "425.914368"
      ]
     },
     "execution_count": 316,
     "metadata": {},
     "output_type": "execute_result"
    }
   ],
   "source": [
    "predictions.nbytes / 1E6"
   ]
  },
  {
   "cell_type": "code",
   "execution_count": 317,
   "metadata": {},
   "outputs": [
    {
     "data": {
      "text/plain": [
       "dtype('float32')"
      ]
     },
     "execution_count": 317,
     "metadata": {},
     "output_type": "execute_result"
    }
   ],
   "source": [
    "predictions.dtype"
   ]
  },
  {
   "cell_type": "code",
   "execution_count": null,
   "metadata": {},
   "outputs": [],
   "source": []
  }
 ],
 "metadata": {
  "kernelspec": {
   "display_name": "optical_flow",
   "language": "python",
   "name": "optical_flow"
  },
  "language_info": {
   "codemirror_mode": {
    "name": "ipython",
    "version": 3
   },
   "file_extension": ".py",
   "mimetype": "text/x-python",
   "name": "python",
   "nbconvert_exporter": "python",
   "pygments_lexer": "ipython3",
   "version": "3.8.5"
  }
 },
 "nbformat": 4,
 "nbformat_minor": 4
}
